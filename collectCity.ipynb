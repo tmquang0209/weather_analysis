{
 "cells": [
  {
   "cell_type": "code",
<<<<<<< HEAD
   "execution_count": 1,
=======
   "execution_count": 14,
>>>>>>> 96c47f2788d3fed05892501706640734d50e28ae
   "id": "d613ea46-70b4-46ca-981f-27dde5f792f0",
   "metadata": {},
   "outputs": [],
   "source": [
    "import requests\n",
    "from bs4 import BeautifulSoup\n",
    "import csv"
   ]
  },
  {
   "cell_type": "code",
<<<<<<< HEAD
   "execution_count": 2,
=======
   "execution_count": 32,
>>>>>>> 96c47f2788d3fed05892501706640734d50e28ae
   "id": "221aa6b9-1e2c-4946-9be6-ca7d58d43ee5",
   "metadata": {},
   "outputs": [
    {
     "name": "stdout",
     "output_type": "stream",
     "text": [
      "Data with capitals has been saved to output_with_capitals.csv\n"
     ]
    }
   ],
   "source": [
<<<<<<< HEAD
=======
    "import requests\n",
    "from bs4 import BeautifulSoup\n",
    "import csv\n",
    "\n",
>>>>>>> 96c47f2788d3fed05892501706640734d50e28ae
    "url = \"https://www.worlddata.info/alliances/un-united-nations.php\"\n",
    "response = requests.get(url)\n",
    "if response.status_code == 200:\n",
    "    soup = BeautifulSoup(response.text, 'html.parser')\n",
    "\n",
    "    # Tìm tất cả các thẻ <tr>\n",
    "    tr_elements = soup.find_all('tr')\n",
    "\n",
    "    # Lặp qua từng thẻ <tr>\n",
    "    data = []\n",
    "    for tr in tr_elements:\n",
    "        # Tìm tất cả các thẻ <td> trong từng thẻ <tr>\n",
    "        td_elements = tr.find_all('td')\n",
    "\n",
    "        # Tạo danh sách để lưu trữ dữ liệu\n",
    "        row_data = []\n",
    "\n",
    "        for td in td_elements:\n",
    "            # Tìm thẻ <a> trong từng thẻ <td>\n",
    "            a_element = td.find('a')\n",
    "            if a_element:\n",
    "                # Lấy đường link từ thẻ <a> nếu tồn tại\n",
    "                link = a_element['href']\n",
    "                row_data.append(link)\n",
    "\n",
    "                # Truy cập tiếp vào đường link và lấy thông tin từ trang mới\n",
    "                subpage_url = 'https://www.worlddata.info/'+link\n",
    "                response_subpage = requests.get(subpage_url)\n",
<<<<<<< HEAD
    "\n",
=======
    "                \n",
>>>>>>> 96c47f2788d3fed05892501706640734d50e28ae
    "                if response_subpage.status_code == 200:\n",
    "                    soup_subpage = BeautifulSoup(response_subpage.text, 'html.parser')\n",
    "                    # Tìm thẻ div có chữ \"Capital:\"\n",
    "                    div_capital = soup_subpage.find('div', string='Capital:')\n",
<<<<<<< HEAD
    "\n",
    "                    if div_capital:\n",
    "                        # Lấy thẻ div có class \"floater\" đứng sau thẻ div \"Capital:\"\n",
    "                        div_floater = div_capital.find_next('div', class_='floater')\n",
    "\n",
=======
    "                    \n",
    "                    if div_capital:\n",
    "                        # Lấy thẻ div có class \"floater\" đứng sau thẻ div \"Capital:\"\n",
    "                        div_floater = div_capital.find_next('div', class_='floater')\n",
    "                        \n",
>>>>>>> 96c47f2788d3fed05892501706640734d50e28ae
    "                        if div_floater:\n",
    "                            capital = div_floater.text.strip()\n",
    "                            row_data.append(capital)\n",
    "\n",
    "        # Thêm dữ liệu của hàng vào danh sách chính\n",
    "        data.append(row_data)\n",
    "\n",
    "# Lưu dữ liệu vào file CSV\n",
    "csv_filename = 'output_with_capitals.csv'\n",
    "with open(csv_filename, 'w', newline='', encoding='utf-8') as csv_file:\n",
    "    csv_writer = csv.writer(csv_file)\n",
    "    csv_writer.writerows(data)\n",
    "\n",
    "print(f'Data with capitals has been saved to {csv_filename}')\n"
   ]
  },
  {
   "cell_type": "code",
<<<<<<< HEAD
   "execution_count": 3,
=======
   "execution_count": 38,
>>>>>>> 96c47f2788d3fed05892501706640734d50e28ae
   "id": "da10fe94-84c9-4891-8502-0d7fa828be93",
   "metadata": {},
   "outputs": [
    {
     "name": "stdout",
     "output_type": "stream",
     "text": [
      "Data has been saved to countries.csv\n"
     ]
    }
   ],
   "source": [
<<<<<<< HEAD
=======
    "import requests\n",
    "from bs4 import BeautifulSoup\n",
    "import csv\n",
    "\n",
>>>>>>> 96c47f2788d3fed05892501706640734d50e28ae
    "url = \"https://www.worlddata.info/alliances/un-united-nations.php\"\n",
    "response = requests.get(url)\n",
    "if response.status_code == 200:\n",
    "    soup = BeautifulSoup(response.text, 'html.parser')\n",
    "\n",
    "    # Tìm tất cả các thẻ <tr>\n",
    "    tr_elements = soup.find_all('tr')\n",
    "\n",
    "    # Lặp qua từng thẻ <tr>\n",
    "    data = []\n",
    "    country_header_added = False\n",
    "\n",
    "    for tr in tr_elements:\n",
    "        # Tìm tất cả các thẻ <td> trong từng thẻ <tr>\n",
    "        td_elements = tr.find_all('td')\n",
    "\n",
    "        # Tạo danh sách để lưu trữ dữ liệu\n",
    "        row_data = []\n",
    "\n",
    "        for td in td_elements:\n",
    "            # Tìm thẻ <a> trong từng thẻ <td>\n",
    "            a_element = td.find('a')\n",
    "            if a_element:\n",
    "                # Lấy nội dung text từ thẻ <a> nếu tồn tại\n",
    "                text_content = a_element.text.strip()\n",
    "                row_data.append(text_content)\n",
    "\n",
    "        # Nếu chưa thêm header \"Country\", thêm vào đầu danh sách\n",
    "        if not country_header_added:\n",
    "            data.append(['Country'])\n",
    "            country_header_added = True\n",
    "\n",
    "        # Thêm dữ liệu của hàng vào danh sách chính\n",
    "        data.append(row_data)\n",
    "\n",
    "# Lưu dữ liệu vào file CSV\n",
    "csv_filename = 'countries.csv'\n",
    "with open(csv_filename, 'w', newline='', encoding='utf-8') as csv_file:\n",
    "    csv_writer = csv.writer(csv_file)\n",
    "    csv_writer.writerows(data)\n",
    "\n",
    "print(f'Data has been saved to {csv_filename}')\n"
   ]
  },
  {
   "cell_type": "code",
<<<<<<< HEAD
   "execution_count": 4,
=======
   "execution_count": 42,
>>>>>>> 96c47f2788d3fed05892501706640734d50e28ae
   "id": "82d48b2e-b831-4585-a1e0-2846ded7b592",
   "metadata": {},
   "outputs": [
    {
<<<<<<< HEAD
     "ename": "ValueError",
     "evalue": "'Capital' is not in list",
     "output_type": "error",
     "traceback": [
      "\u001b[1;31m---------------------------------------------------------------------------\u001b[0m",
      "\u001b[1;31mValueError\u001b[0m                                Traceback (most recent call last)",
      "Cell \u001b[1;32mIn[4], line 26\u001b[0m\n\u001b[0;32m     24\u001b[0m header \u001b[38;5;241m=\u001b[39m \u001b[38;5;28mnext\u001b[39m(country_reader)  \u001b[38;5;66;03m# Read the header row\u001b[39;00m\n\u001b[0;32m     25\u001b[0m country_name_index \u001b[38;5;241m=\u001b[39m header\u001b[38;5;241m.\u001b[39mindex(\u001b[38;5;124m'\u001b[39m\u001b[38;5;124mCountry\u001b[39m\u001b[38;5;124m'\u001b[39m)\n\u001b[1;32m---> 26\u001b[0m capital_index \u001b[38;5;241m=\u001b[39m \u001b[43mheader\u001b[49m\u001b[38;5;241;43m.\u001b[39;49m\u001b[43mindex\u001b[49m\u001b[43m(\u001b[49m\u001b[38;5;124;43m'\u001b[39;49m\u001b[38;5;124;43mCapital\u001b[39;49m\u001b[38;5;124;43m'\u001b[39;49m\u001b[43m)\u001b[49m\n\u001b[0;32m     28\u001b[0m \u001b[38;5;28;01mfor\u001b[39;00m row \u001b[38;5;129;01min\u001b[39;00m country_reader:\n\u001b[0;32m     29\u001b[0m     \u001b[38;5;28;01mif\u001b[39;00m \u001b[38;5;28mlen\u001b[39m(row) \u001b[38;5;241m>\u001b[39m\u001b[38;5;241m=\u001b[39m \u001b[38;5;28mmax\u001b[39m(country_name_index, capital_index) \u001b[38;5;241m+\u001b[39m \u001b[38;5;241m1\u001b[39m:  \u001b[38;5;66;03m# Ensure the row has enough columns\u001b[39;00m\n",
      "\u001b[1;31mValueError\u001b[0m: 'Capital' is not in list"
=======
     "name": "stdout",
     "output_type": "stream",
     "text": [
      "Data with latitude and longitude has been saved to capitals_with_lat_lon.csv\n"
>>>>>>> 96c47f2788d3fed05892501706640734d50e28ae
     ]
    }
   ],
   "source": [
<<<<<<< HEAD
=======
    "import csv\n",
    "import requests\n",
    "\n",
>>>>>>> 96c47f2788d3fed05892501706640734d50e28ae
    "# Function to get latitude and longitude from Geocode API\n",
    "def get_lat_lon_from_geocode_api(capital):\n",
    "    api_key = \"65b12ffc9e1eb780254126kdcc393e8\"\n",
    "    base_url = f\"https://geocode.maps.co/search?q={capital}&api_key={api_key}\"\n",
    "\n",
    "    response = requests.get(base_url)\n",
    "    if response.status_code == 200:\n",
    "        try:\n",
    "            json_data = response.json()\n",
    "            lat = json_data[0]['lat']\n",
    "            lon = json_data[0]['lon']\n",
    "            return lat, lon\n",
    "        except (KeyError, IndexError):\n",
    "            return None, None\n",
    "    else:\n",
    "        return None, None\n",
    "\n",
    "# Read the countries.csv file\n",
    "country_filename = 'countries.csv'\n",
    "capitals_data = []\n",
    "\n",
    "with open(country_filename, 'r', newline='', encoding='utf-8') as country_file:\n",
    "    country_reader = csv.reader(country_file)\n",
    "    header = next(country_reader)  # Read the header row\n",
    "    country_name_index = header.index('Country')\n",
    "    capital_index = header.index('Capital')\n",
    "\n",
    "    for row in country_reader:\n",
    "        if len(row) >= max(country_name_index, capital_index) + 1:  # Ensure the row has enough columns\n",
    "            country_name = row[country_name_index]\n",
    "            capital = row[capital_index]\n",
    "\n",
    "            # Get latitude and longitude using the Geocode API\n",
    "            lat, lon = get_lat_lon_from_geocode_api(capital)\n",
    "\n",
    "            # Append the data to the list\n",
    "            capitals_data.append([country_name, capital, lat, lon])\n",
    "\n",
    "# Save the data to a new CSV file\n",
    "output_filename = 'capitals_with_lat_lon.csv'\n",
    "with open(output_filename, 'w', newline='', encoding='utf-8') as output_file:\n",
    "    csv_writer = csv.writer(output_file)\n",
    "    csv_writer.writerow(['Country', 'Capital', 'Latitude', 'Longitude'])  # Header row\n",
    "    csv_writer.writerows(capitals_data)\n",
    "\n",
    "print(f'Data with latitude and longitude has been saved to {output_filename}')\n"
   ]
<<<<<<< HEAD
=======
  },
  {
   "cell_type": "code",
   "execution_count": null,
   "id": "730b8d13-3110-4e16-8456-9d95b62b1a85",
   "metadata": {},
   "outputs": [],
   "source": []
>>>>>>> 96c47f2788d3fed05892501706640734d50e28ae
  }
 ],
 "metadata": {
  "kernelspec": {
   "display_name": "Python 3 (ipykernel)",
   "language": "python",
   "name": "python3"
  },
  "language_info": {
   "codemirror_mode": {
    "name": "ipython",
    "version": 3
   },
   "file_extension": ".py",
   "mimetype": "text/x-python",
   "name": "python",
   "nbconvert_exporter": "python",
   "pygments_lexer": "ipython3",
<<<<<<< HEAD
   "version": "3.12.0"
=======
   "version": "3.12.1"
>>>>>>> 96c47f2788d3fed05892501706640734d50e28ae
  }
 },
 "nbformat": 4,
 "nbformat_minor": 5
}
