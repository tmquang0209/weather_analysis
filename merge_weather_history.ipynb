{
 "cells": [
  {
   "cell_type": "code",
   "execution_count": 3,
   "id": "5ef74076-6130-4a0b-b474-c73fcef919c1",
   "metadata": {},
   "outputs": [],
   "source": [
    "import os\n",
    "import pandas as pd"
   ]
  },
  {
   "cell_type": "code",
   "execution_count": 13,
   "id": "8c8a00e9-e35b-43be-9bb2-33fd2d5c2fd5",
   "metadata": {},
   "outputs": [
    {
     "name": "stdout",
     "output_type": "stream",
     "text": [
      "Các tệp sau có dữ liệu thiếu:\n",
      "Basseterre_hourly.csv\n",
      "Copenhagen_hourly.csv\n",
      "Funafuti_hourly.csv\n",
      "Lome_hourly.csv\n",
      "Majuro_hourly.csv\n",
      "Male_hourly.csv\n",
      "Melekeok_hourly.csv\n",
      "Nassau_hourly.csv\n",
      "Nouakchott_hourly.csv\n",
      "Nukualofa_hourly.csv\n",
      "Panama City_hourly.csv\n",
      "Paramaribo_hourly.csv\n",
      "Sao Tome_hourly.csv\n",
      "Tarawa Atoll_hourly.csv\n",
      "Victoria_hourly.csv\n",
      "Wellington_hourly.csv\n",
      "Yaren_hourly.csv\n"
     ]
    }
   ],
   "source": [
    "# Thư mục chứa các tệp CSV\n",
    "folder_path = 'output'\n",
    "\n",
    "# Tạo một danh sách để lưu trữ các DataFrame từ các tệp CSV\n",
    "dfs = []\n",
    "files_with_missing_data = []  # Danh sách để lưu tên các tệp có dữ liệu thiếu\n",
    "\n",
    "# Lặp qua tất cả các tệp trong thư mục\n",
    "for filename in os.listdir(folder_path):\n",
    "    if filename.endswith('.csv'):\n",
    "        file_path = os.path.join(folder_path, filename)\n",
    "        df = pd.read_csv(file_path)\n",
    "\n",
    "        # Kiểm tra dữ liệu thiếu trong DataFrame\n",
    "        if df.isnull().values.any():\n",
    "            files_with_missing_data.append(filename)\n",
    "\n",
    "        # Thêm cột \"capital\" từ tên file\n",
    "        df['capital'] = os.path.splitext(filename)[0].replace(\"_hourly\", \"\")\n",
    "\n",
    "        # remove first column\n",
    "        df = df.iloc[:, 1:]\n",
    "        dfs.append(df)\n",
    "\n",
    "# Nối tất cả các DataFrame thành một\n",
    "merged_df = pd.concat(dfs, ignore_index=True)\n",
    "\n",
    "# Đọc dữ liệu từ file cities_utf8.csv\n",
    "cities_df = pd.read_csv('./data/cities_utf8.csv')\n",
    "\n",
    "# Thêm cột \"country\" dựa trên cột \"capital\" và \"city\"\n",
    "merged_df['country'] = merged_df['capital'].map(cities_df.set_index('Capital')['Country'])\n",
    "\n",
    "# Lưu kết quả vào một tệp mới\n",
    "merged_df.to_csv('final_output_with_capital_country.csv', index=False)\n",
    "\n",
    "# In ra tên các tệp có dữ liệu thiếu\n",
    "if len(files_with_missing_data) > 0:\n",
    "    print(\"Các tệp sau có dữ liệu thiếu:\")\n",
    "    for file in files_with_missing_data:\n",
    "        print(file)\n",
    "else:\n",
    "    print(\"Không có tệp nào có dữ liệu thiếu.\")\n"
   ]
  },
  {
   "cell_type": "code",
   "execution_count": 4,
   "id": "0aba5c75",
   "metadata": {},
   "outputs": [
    {
     "data": {
      "text/plain": [
       "(1690680, 33)"
      ]
     },
     "execution_count": 4,
     "metadata": {},
     "output_type": "execute_result"
    }
   ],
   "source": [
    "full_df = pd.read_csv('final_data/weather_history.csv')\n",
    "# full_df.count()\n",
    "#shape\n",
    "full_df.shape"
   ]
  },
  {
   "cell_type": "code",
   "execution_count": 6,
   "id": "f73d197d-259a-4843-9ff8-e11b3a665d3b",
   "metadata": {},
   "outputs": [
    {
     "name": "stdout",
     "output_type": "stream",
     "text": [
      "Tỷ lệ dữ liệu thiếu cho mỗi cột:\n",
      "date                             0.00\n",
      "temperature_2m                   0.00\n",
      "relative_humidity_2m             0.00\n",
      "dew_point_2m                     0.00\n",
      "apparent_temperature             0.00\n",
      "precipitation                    0.00\n",
      "rain                             0.00\n",
      "snowfall                         0.00\n",
      "snow_depth                       8.81\n",
      "weather_code                     0.00\n",
      "pressure_msl                     0.00\n",
      "surface_pressure                 0.00\n",
      "cloud_cover                      0.00\n",
      "cloud_cover_low                  0.00\n",
      "cloud_cover_mid                  0.00\n",
      "cloud_cover_high                 0.00\n",
      "et0_fao_evapotranspiration       0.00\n",
      "vapour_pressure_deficit          0.00\n",
      "wind_speed_10m                   0.00\n",
      "wind_speed_100m                  0.00\n",
      "wind_direction_10m               0.00\n",
      "wind_direction_100m              0.00\n",
      "wind_gusts_10m                   0.00\n",
      "soil_temperature_0_to_7cm        0.00\n",
      "soil_temperature_7_to_28cm       0.00\n",
      "soil_temperature_28_to_100cm     0.00\n",
      "soil_temperature_100_to_255cm    0.00\n",
      "soil_moisture_0_to_7cm           0.00\n",
      "soil_moisture_7_to_28cm          0.00\n",
      "soil_moisture_28_to_100cm        0.00\n",
      "soil_moisture_100_to_255cm       0.00\n",
      "capital                          0.00\n",
      "country                          1.04\n",
      "dtype: float64\n"
     ]
    }
   ],
   "source": [
    "missing_percentage = (full_df.isnull().mean() * 100).round(2)\n",
    "print(\"Tỷ lệ dữ liệu thiếu cho mỗi cột:\")\n",
    "print(missing_percentage)"
   ]
  },
  {
   "cell_type": "code",
   "execution_count": null,
   "id": "54c858ac-f4c7-4e9d-b45e-afd98826b931",
   "metadata": {},
   "outputs": [],
   "source": [
    "# Đọc DataFrame từ tệp CSV\n",
    "merged_df = pd.read_csv('final_output_with_capital_country.csv')\n",
    "\n",
    "# Xác định các dòng có giá trị null trong cột 'snow_depth'\n",
    "rows_with_null_snow_depth = merged_df[merged_df['snow_depth'].isnull()]\n",
    "\n",
    "# In ra các dòng có giá trị null trong cột 'snow_depth'\n",
    "print(\"Các dòng có giá trị null trong cột 'snow_depth':\")\n",
    "print(rows_with_null_snow_depth)\n"
   ]
  },
  {
   "cell_type": "code",
   "execution_count": null,
   "id": "a8874639-6b76-49fb-a967-c9a3e7876a06",
   "metadata": {},
   "outputs": [],
   "source": [
    "import codecs\n",
    "\n",
    "input_file_path = './data/cities.csv'\n",
    "output_file_path = 'data/cities_utf8.csv'\n",
    "\n",
    "# Đọc nội dung file với encoding 'utf-8' và ghi lại với UTF-8\n",
    "with codecs.open(input_file_path, 'r', encoding='utf-8', errors='ignore') as input_file:\n",
    "    content = input_file.read()\n",
    "    with codecs.open(output_file_path, 'w', encoding='utf-8') as output_file:\n",
    "        output_file.write(content)\n",
    "\n",
    "print(f\"File {input_file_path} đã được chuyển sang định dạng UTF-8 và lưu vào {output_file_path}.\")\n"
   ]
  },
  {
   "cell_type": "code",
   "execution_count": null,
   "id": "31159315-0642-4595-9446-2a6acfe07356",
   "metadata": {},
   "outputs": [],
   "source": [
    "\n",
    "# Đọc dữ liệu từ file final_output_with_city.csv\n",
    "final_output_df = pd.read_csv('final_output_with_city.csv')\n",
    "\n",
    "# Đọc dữ liệu từ file /data/cities.csv\n",
    "cities_df = pd.read_csv('data/cities_utf8.csv')\n",
    "\n",
    "# Thêm cột 'country' dựa trên cột 'city' và 'capital'\n",
    "final_output_df['Country'] = final_output_df['city'].map(cities_df.set_index('Capital')['Country'])\n",
    "\n",
    "# Lưu kết quả vào file mới hoặc cập nhật file cũ\n",
    "final_output_df.to_csv('final_output_with_country.csv', index=False)\n"
   ]
  },
  {
   "cell_type": "code",
   "execution_count": null,
   "id": "d44563b4-eaac-4249-b310-4f2baecf5064",
   "metadata": {},
   "outputs": [],
   "source": [
    "df = pd.read_csv('final_output_with_capital_country.csv')\n",
    "total_missing = df.isnull().sum().sum()\n",
    "print(\"Tổng số lượng dữ liệu thiếu trong toàn bộ DataFrame:\", total_missing)\n"
   ]
  },
  {
   "cell_type": "code",
   "execution_count": null,
   "id": "0708d211-fabe-4fd1-9c46-efce05b9cc2d",
   "metadata": {},
   "outputs": [],
   "source": [
    "missing_values = df.isnull().sum()\n",
    "print(\"Số lượng dữ liệu thiếu cho mỗi cột:\")\n",
    "print(missing_values)\n"
   ]
  },
  {
   "cell_type": "code",
   "execution_count": null,
   "id": "2ea4812b-5760-4f11-989f-cf47add37df6",
   "metadata": {},
   "outputs": [],
   "source": [
    "null_country_rows = df[df['country'].isnull()]\n",
    "\n",
    "# Lọc các thành phố duy nhất (loại bỏ các thành phố trùng lặp)\n",
    "unique_cities_with_null_country = null_country_rows.drop_duplicates(subset='capital')['capital']\n",
    "\n",
    "# Hiển thị tên thành phố của các hàng có giá trị null trong cột \"Country\"\n",
    "if not unique_cities_with_null_country.empty:\n",
    "    print(f\"Các thành phố có giá trị null trong cột 'Country': {', '.join(unique_cities_with_null_country)}\")\n",
    "else:\n",
    "    print(\"Không có thành phố nào có giá trị null trong cột 'Country'.\")"
   ]
  },
  {
   "cell_type": "code",
   "execution_count": null,
   "id": "4441296c-bb01-451b-bd2d-e8fe34b0ec12",
   "metadata": {},
   "outputs": [],
   "source": [
    "df = pd.read_csv('final_output_with_capital_country.csv')\n",
    "\n",
    "# Thay thế giá trị null trong cột \"snow_depth\" bằng 0\n",
    "df['snow_depth'].fillna(0, inplace=True)\n",
    "\n",
    "# Lưu DataFrame sau khi cập nhật\n",
    "df.to_csv('final_output_update_snow.csv', index=False)\n",
    "\n",
    "print(f\"File đã được cập nhật và lưu vào 'final_output_with_country_snow.csv'.\")\n"
   ]
  },
  {
   "cell_type": "code",
   "execution_count": null,
   "id": "551fb19b-6422-4dbb-a020-ee954b978168",
   "metadata": {},
   "outputs": [],
   "source": [
    "df = pd.read_csv('final_output_with_country_updated.csv')\n",
    "missing_values = df.isnull().sum()\n",
    "print(\"Số lượng dữ liệu thiếu cho mỗi cột:\")\n",
    "print(missing_values)\n"
   ]
  },
  {
   "cell_type": "code",
   "execution_count": null,
   "id": "19672540-56c7-42a3-bb3c-12694fcb6db1",
   "metadata": {},
   "outputs": [],
   "source": [
    "\n",
    "conditions = {\n",
    "    'Nuku\\'alofa': 'Tonga',\n",
    "    'Panama_City': 'Panama',\n",
    "    'N’Djamena': 'Chad',\n",
    "    'Saint George’s': 'Grenada',\n",
    "    'Saint John’s': 'Antigua and Barbuda'\n",
    "}\n",
    "\n",
    "# Lặp qua điều kiện và cập nhật cột 'Country' cho các thành phố có giá trị null\n",
    "for city, country in conditions.items():\n",
    "    df.loc[df['capital'] == city, 'country'] = country\n",
    "\n",
    "# Lưu DataFrame sau khi cập nhật\n",
    "df.to_csv('final_output_with_country_updated.csv', index=False)\n",
    "\n",
    "print(f\"File đã được cập nhật và lưu vào 'final_output_with_country_updated.csv'.\")\n"
   ]
  },
  {
   "cell_type": "code",
   "execution_count": null,
   "id": "1ee4d379-52d5-479c-9648-f6d226c4cc01",
   "metadata": {},
   "outputs": [],
   "source": [
    "total_missing = df.isnull().sum().sum()\n",
    "print(\"Tổng số lượng dữ liệu thiếu trong toàn bộ DataFrame:\", total_missing)\n"
   ]
  },
  {
   "cell_type": "code",
   "execution_count": 7,
   "id": "2e52e134-ee4a-45e2-8722-6c795cb643e3",
   "metadata": {},
   "outputs": [
    {
     "data": {
      "text/plain": [
       "array([ 0.,  3.,  2.,  1., 53., 51., 55., 61., 63., 65., 73., 75., 71.])"
      ]
     },
     "execution_count": 7,
     "metadata": {},
     "output_type": "execute_result"
    }
   ],
   "source": [
    "full_df[\"weather_code\"].unique()"
   ]
  },
  {
   "cell_type": "code",
   "execution_count": 8,
   "id": "b8b6e065",
   "metadata": {},
   "outputs": [
    {
     "data": {
      "text/plain": [
       "0          0.0\n",
       "1          0.0\n",
       "2          0.0\n",
       "3          3.0\n",
       "4          3.0\n",
       "          ... \n",
       "1690675    1.0\n",
       "1690676    1.0\n",
       "1690677    3.0\n",
       "1690678    2.0\n",
       "1690679    2.0\n",
       "Name: weather_code, Length: 1690680, dtype: float64"
      ]
     },
     "execution_count": 8,
     "metadata": {},
     "output_type": "execute_result"
    }
   ],
   "source": []
  }
 ],
 "metadata": {
  "kernelspec": {
   "display_name": "Python 3 (ipykernel)",
   "language": "python",
   "name": "python3"
  },
  "language_info": {
   "codemirror_mode": {
    "name": "ipython",
    "version": 3
   },
   "file_extension": ".py",
   "mimetype": "text/x-python",
   "name": "python",
   "nbconvert_exporter": "python",
   "pygments_lexer": "ipython3",
   "version": "3.12.0"
  }
 },
 "nbformat": 4,
 "nbformat_minor": 5
}
