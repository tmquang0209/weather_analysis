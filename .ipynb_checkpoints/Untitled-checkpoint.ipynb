{
 "cells": [
  {
   "cell_type": "code",
   "execution_count": 4,
   "id": "5ef74076-6130-4a0b-b474-c73fcef919c1",
   "metadata": {},
   "outputs": [],
   "source": [
    "import os\n",
    "import pandas as pd"
   ]
  },
  {
   "cell_type": "code",
   "execution_count": 16,
   "id": "8c8a00e9-e35b-43be-9bb2-33fd2d5c2fd5",
   "metadata": {},
   "outputs": [
    {
     "name": "stdout",
     "output_type": "stream",
     "text": [
      "Các tệp sau có dữ liệu thiếu:\n",
      "Basseterre_hourly.csv\n",
      "Copenhagen_hourly.csv\n",
      "Funafuti_hourly.csv\n",
      "Lome_hourly.csv\n",
      "Majuro_hourly.csv\n",
      "Male_hourly.csv\n",
      "Melekeok_hourly.csv\n",
      "Nassau_hourly.csv\n",
      "Nouakchott_hourly.csv\n",
      "Nuku'alofa_hourly.csv\n",
      "Nuku’alofa_hourly.csv\n",
      "Panama City_hourly.csv\n",
      "Panama_City_hourly.csv\n",
      "Paramaribo_hourly.csv\n",
      "Sao Tome_hourly.csv\n",
      "Tarawa Atoll_hourly.csv\n",
      "Victoria_hourly.csv\n",
      "Wellington_hourly.csv\n",
      "Yaren_hourly.csv\n"
     ]
    }
   ],
   "source": [
    "import os\n",
    "import pandas as pd\n",
    "\n",
    "# Thư mục chứa các tệp CSV\n",
    "folder_path = 'output'\n",
    "\n",
    "# Tạo một danh sách để lưu trữ các DataFrame từ các tệp CSV\n",
    "dfs = []\n",
    "files_with_missing_data = []  # Danh sách để lưu tên các tệp có dữ liệu thiếu\n",
    "\n",
    "# Lặp qua tất cả các tệp trong thư mục\n",
    "for filename in os.listdir(folder_path):\n",
    "    if filename.endswith('.csv'):\n",
    "        file_path = os.path.join(folder_path, filename)\n",
    "        df = pd.read_csv(file_path)\n",
    "\n",
    "        # Kiểm tra dữ liệu thiếu trong DataFrame\n",
    "        if df.isnull().values.any():\n",
    "            files_with_missing_data.append(filename)\n",
    "\n",
    "        # Thêm cột \"capital\" từ tên file\n",
    "        df['capital'] = os.path.splitext(filename)[0].replace(\"_hourly\", \"\")\n",
    "\n",
    "        dfs.append(df)\n",
    "\n",
    "# Nối tất cả các DataFrame thành một\n",
    "merged_df = pd.concat(dfs, ignore_index=True)\n",
    "\n",
    "# Đọc dữ liệu từ file cities_utf8.csv\n",
    "cities_df = pd.read_csv('./data/cities_utf8.csv')\n",
    "\n",
    "# Thêm cột \"country\" dựa trên cột \"capital\" và \"city\"\n",
    "merged_df['country'] = merged_df['capital'].map(cities_df.set_index('Capital')['Country'])\n",
    "\n",
    "# Lưu kết quả vào một tệp mới\n",
    "merged_df.to_csv('final_output_with_capital_country.csv', index=False)\n",
    "\n",
    "# In ra tên các tệp có dữ liệu thiếu\n",
    "if len(files_with_missing_data) > 0:\n",
    "    print(\"Các tệp sau có dữ liệu thiếu:\")\n",
    "    for file in files_with_missing_data:\n",
    "        print(file)\n",
    "else:\n",
    "    print(\"Không có tệp nào có dữ liệu thiếu.\")\n"
   ]
  },
  {
   "cell_type": "code",
   "execution_count": 17,
   "id": "f73d197d-259a-4843-9ff8-e11b3a665d3b",
   "metadata": {},
   "outputs": [
    {
     "name": "stdout",
     "output_type": "stream",
     "text": [
      "Tỷ lệ dữ liệu thiếu cho mỗi cột:\n",
      "Unnamed: 0                       0.00\n",
      "date                             0.00\n",
      "temperature_2m                   0.00\n",
      "relative_humidity_2m             0.00\n",
      "dew_point_2m                     0.00\n",
      "apparent_temperature             0.00\n",
      "precipitation                    0.00\n",
      "rain                             0.00\n",
      "snowfall                         0.00\n",
      "snow_depth                       9.74\n",
      "weather_code                     0.00\n",
      "pressure_msl                     0.00\n",
      "surface_pressure                 0.00\n",
      "cloud_cover                      0.00\n",
      "cloud_cover_low                  0.00\n",
      "cloud_cover_mid                  0.00\n",
      "cloud_cover_high                 0.00\n",
      "et0_fao_evapotranspiration       0.00\n",
      "vapour_pressure_deficit          0.00\n",
      "wind_speed_10m                   0.00\n",
      "wind_speed_100m                  0.00\n",
      "wind_direction_10m               0.00\n",
      "wind_direction_100m              0.00\n",
      "wind_gusts_10m                   0.00\n",
      "soil_temperature_0_to_7cm        0.00\n",
      "soil_temperature_7_to_28cm       0.00\n",
      "soil_temperature_28_to_100cm     0.00\n",
      "soil_temperature_100_to_255cm    0.00\n",
      "soil_moisture_0_to_7cm           0.00\n",
      "soil_moisture_7_to_28cm          0.00\n",
      "soil_moisture_28_to_100cm        0.00\n",
      "soil_moisture_100_to_255cm       0.00\n",
      "capital                          0.00\n",
      "country                          3.08\n",
      "dtype: float64\n"
     ]
    }
   ],
   "source": [
    "missing_percentage = (merged_df.isnull().mean() * 100).round(2)\n",
    "print(\"Tỷ lệ dữ liệu thiếu cho mỗi cột:\")\n",
    "print(missing_percentage)\n"
   ]
  },
  {
   "cell_type": "code",
   "execution_count": 18,
   "id": "54c858ac-f4c7-4e9d-b45e-afd98826b931",
   "metadata": {},
   "outputs": [
    {
     "name": "stdout",
     "output_type": "stream",
     "text": [
      "Các dòng có giá trị null trong cột 'snow_depth':\n",
      "         Unnamed: 0                 date  temperature_2m  \\\n",
      "201480            0  2023-01-01 00:00:00       25.811500   \n",
      "201481            1  2023-01-01 01:00:00       25.761500   \n",
      "201482            2  2023-01-01 02:00:00       25.561500   \n",
      "201483            3  2023-01-01 03:00:00       25.411500   \n",
      "201484            4  2023-01-01 04:00:00       25.261500   \n",
      "...             ...                  ...             ...   \n",
      "1690675        8755  2023-12-31 19:00:00       28.967500   \n",
      "1690676        8756  2023-12-31 20:00:00       29.017500   \n",
      "1690677        8757  2023-12-31 21:00:00       29.167501   \n",
      "1690678        8758  2023-12-31 22:00:00       29.167501   \n",
      "1690679        8759  2023-12-31 23:00:00       29.317501   \n",
      "\n",
      "         relative_humidity_2m  dew_point_2m  apparent_temperature  \\\n",
      "201480              70.159520     19.961500             26.630512   \n",
      "201481              70.804726     20.061500             26.348934   \n",
      "201482              71.871870     20.111500             26.103420   \n",
      "201483              72.515180     20.111500             26.042973   \n",
      "201484              73.846630     20.261500             26.160614   \n",
      "...                       ...           ...                   ...   \n",
      "1690675             75.360240     24.167501             32.582317   \n",
      "1690676             75.142426     24.167501             32.352142   \n",
      "1690677             74.941360     24.267500             32.321194   \n",
      "1690678             75.166300     24.317501             32.125286   \n",
      "1690679             74.072260     24.217500             32.908363   \n",
      "\n",
      "         precipitation  rain  snowfall  snow_depth  ...  \\\n",
      "201480             0.0   0.0       0.0         NaN  ...   \n",
      "201481             0.0   0.0       0.0         NaN  ...   \n",
      "201482             0.0   0.0       0.0         NaN  ...   \n",
      "201483             0.0   0.0       0.0         NaN  ...   \n",
      "201484             0.0   0.0       0.0         NaN  ...   \n",
      "...                ...   ...       ...         ...  ...   \n",
      "1690675            0.0   0.0       0.0         NaN  ...   \n",
      "1690676            0.0   0.0       0.0         NaN  ...   \n",
      "1690677            0.0   0.0       0.0         NaN  ...   \n",
      "1690678            0.0   0.0       0.0         NaN  ...   \n",
      "1690679            0.0   0.0       0.0         NaN  ...   \n",
      "\n",
      "         soil_temperature_0_to_7cm  soil_temperature_7_to_28cm  \\\n",
      "201480                     26.8615                     26.9615   \n",
      "201481                     26.4615                     26.9615   \n",
      "201482                     26.1615                     26.9115   \n",
      "201483                     25.9115                     26.8615   \n",
      "201484                     25.7115                     26.8115   \n",
      "...                            ...                         ...   \n",
      "1690675                    30.0175                     30.0175   \n",
      "1690676                    30.0175                     30.0175   \n",
      "1690677                    30.0175                     30.0175   \n",
      "1690678                    30.0175                     30.0175   \n",
      "1690679                    30.0175                     30.0175   \n",
      "\n",
      "         soil_temperature_28_to_100cm  soil_temperature_100_to_255cm  \\\n",
      "201480                        26.7115                        27.5115   \n",
      "201481                        26.7115                        27.5115   \n",
      "201482                        26.7115                        27.5115   \n",
      "201483                        26.7115                        27.5115   \n",
      "201484                        26.7115                        27.5115   \n",
      "...                               ...                            ...   \n",
      "1690675                       30.0175                        30.0175   \n",
      "1690676                       30.0175                        30.0175   \n",
      "1690677                       30.0175                        30.0175   \n",
      "1690678                       30.0175                        30.0175   \n",
      "1690679                       30.0175                        30.0175   \n",
      "\n",
      "         soil_moisture_0_to_7cm  soil_moisture_7_to_28cm  \\\n",
      "201480                    0.223                    0.214   \n",
      "201481                    0.223                    0.214   \n",
      "201482                    0.223                    0.214   \n",
      "201483                    0.222                    0.214   \n",
      "201484                    0.222                    0.214   \n",
      "...                         ...                      ...   \n",
      "1690675                   0.000                    0.000   \n",
      "1690676                   0.000                    0.000   \n",
      "1690677                   0.000                    0.000   \n",
      "1690678                   0.000                    0.000   \n",
      "1690679                   0.000                    0.000   \n",
      "\n",
      "         soil_moisture_28_to_100cm  soil_moisture_100_to_255cm     capital  \\\n",
      "201480                       0.229                       0.091  Basseterre   \n",
      "201481                       0.229                       0.091  Basseterre   \n",
      "201482                       0.229                       0.091  Basseterre   \n",
      "201483                       0.229                       0.091  Basseterre   \n",
      "201484                       0.229                       0.091  Basseterre   \n",
      "...                            ...                         ...         ...   \n",
      "1690675                      0.000                       0.000       Yaren   \n",
      "1690676                      0.000                       0.000       Yaren   \n",
      "1690677                      0.000                       0.000       Yaren   \n",
      "1690678                      0.000                       0.000       Yaren   \n",
      "1690679                      0.000                       0.000       Yaren   \n",
      "\n",
      "                       country  \n",
      "201480   Saint Kitts and Nevis  \n",
      "201481   Saint Kitts and Nevis  \n",
      "201482   Saint Kitts and Nevis  \n",
      "201483   Saint Kitts and Nevis  \n",
      "201484   Saint Kitts and Nevis  \n",
      "...                        ...  \n",
      "1690675                  Nauru  \n",
      "1690676                  Nauru  \n",
      "1690677                  Nauru  \n",
      "1690678                  Nauru  \n",
      "1690679                  Nauru  \n",
      "\n",
      "[166440 rows x 34 columns]\n"
     ]
    }
   ],
   "source": [
    "import pandas as pd\n",
    "\n",
    "# Đọc DataFrame từ tệp CSV\n",
    "merged_df = pd.read_csv('final_output_with_capital_country.csv')\n",
    "\n",
    "# Xác định các dòng có giá trị null trong cột 'snow_depth'\n",
    "rows_with_null_snow_depth = merged_df[merged_df['snow_depth'].isnull()]\n",
    "\n",
    "# In ra các dòng có giá trị null trong cột 'snow_depth'\n",
    "print(\"Các dòng có giá trị null trong cột 'snow_depth':\")\n",
    "print(rows_with_null_snow_depth)\n"
   ]
  },
  {
   "cell_type": "code",
   "execution_count": null,
   "id": "a8874639-6b76-49fb-a967-c9a3e7876a06",
   "metadata": {},
   "outputs": [],
   "source": [
    "import codecs\n",
    "\n",
    "input_file_path = './data/cities.csv'\n",
    "output_file_path = 'cities_utf8.csv'\n",
    "\n",
    "# Đọc nội dung file với encoding 'utf-8' và ghi lại với UTF-8\n",
    "with codecs.open(input_file_path, 'r', encoding='utf-8', errors='ignore') as input_file:\n",
    "    content = input_file.read()\n",
    "    with codecs.open(output_file_path, 'w', encoding='utf-8') as output_file:\n",
    "        output_file.write(content)\n",
    "\n",
    "print(f\"File {input_file_path} đã được chuyển sang định dạng UTF-8 và lưu vào {output_file_path}.\")\n"
   ]
  },
  {
   "cell_type": "code",
   "execution_count": null,
   "id": "31159315-0642-4595-9446-2a6acfe07356",
   "metadata": {},
   "outputs": [],
   "source": [
    "\n",
    "# Đọc dữ liệu từ file final_output_with_city.csv\n",
    "final_output_df = pd.read_csv('final_output_with_city.csv')\n",
    "\n",
    "# Đọc dữ liệu từ file /data/cities.csv\n",
    "cities_df = pd.read_csv('cities_utf8.csv')\n",
    "\n",
    "# Thêm cột 'country' dựa trên cột 'city' và 'capital'\n",
    "final_output_df['Country'] = final_output_df['city'].map(cities_df.set_index('Capital')['Country'])\n",
    "\n",
    "# Lưu kết quả vào file mới hoặc cập nhật file cũ\n",
    "final_output_df.to_csv('final_output_with_country.csv', index=False)\n"
   ]
  },
  {
   "cell_type": "code",
   "execution_count": 19,
   "id": "d44563b4-eaac-4249-b310-4f2baecf5064",
   "metadata": {},
   "outputs": [
    {
     "name": "stdout",
     "output_type": "stream",
     "text": [
      "Tổng số lượng dữ liệu thiếu trong toàn bộ DataFrame: 219000\n"
     ]
    }
   ],
   "source": [
    "df = pd.read_csv('final_output_with_capital_country.csv')\n",
    "total_missing = df.isnull().sum().sum()\n",
    "print(\"Tổng số lượng dữ liệu thiếu trong toàn bộ DataFrame:\", total_missing)\n"
   ]
  },
  {
   "cell_type": "code",
   "execution_count": 20,
   "id": "0708d211-fabe-4fd1-9c46-efce05b9cc2d",
   "metadata": {},
   "outputs": [
    {
     "name": "stdout",
     "output_type": "stream",
     "text": [
      "Số lượng dữ liệu thiếu cho mỗi cột:\n",
      "Unnamed: 0                            0\n",
      "date                                  0\n",
      "temperature_2m                        0\n",
      "relative_humidity_2m                  0\n",
      "dew_point_2m                          0\n",
      "apparent_temperature                  0\n",
      "precipitation                         0\n",
      "rain                                  0\n",
      "snowfall                              0\n",
      "snow_depth                       166440\n",
      "weather_code                          0\n",
      "pressure_msl                          0\n",
      "surface_pressure                      0\n",
      "cloud_cover                           0\n",
      "cloud_cover_low                       0\n",
      "cloud_cover_mid                       0\n",
      "cloud_cover_high                      0\n",
      "et0_fao_evapotranspiration            0\n",
      "vapour_pressure_deficit               0\n",
      "wind_speed_10m                        0\n",
      "wind_speed_100m                       0\n",
      "wind_direction_10m                    0\n",
      "wind_direction_100m                   0\n",
      "wind_gusts_10m                        0\n",
      "soil_temperature_0_to_7cm             0\n",
      "soil_temperature_7_to_28cm            0\n",
      "soil_temperature_28_to_100cm          0\n",
      "soil_temperature_100_to_255cm         0\n",
      "soil_moisture_0_to_7cm                0\n",
      "soil_moisture_7_to_28cm               0\n",
      "soil_moisture_28_to_100cm             0\n",
      "soil_moisture_100_to_255cm            0\n",
      "capital                               0\n",
      "country                           52560\n",
      "dtype: int64\n"
     ]
    }
   ],
   "source": [
    "missing_values = df.isnull().sum()\n",
    "print(\"Số lượng dữ liệu thiếu cho mỗi cột:\")\n",
    "print(missing_values)\n"
   ]
  },
  {
   "cell_type": "code",
   "execution_count": 30,
   "id": "2ea4812b-5760-4f11-989f-cf47add37df6",
   "metadata": {},
   "outputs": [
    {
     "name": "stdout",
     "output_type": "stream",
     "text": [
      "Các thành phố có giá trị null trong cột 'Country': Nuku'alofa, Panama_City\n"
     ]
    }
   ],
   "source": [
    "null_country_rows = df[df['country'].isnull()]\n",
    "\n",
    "# Lọc các thành phố duy nhất (loại bỏ các thành phố trùng lặp)\n",
    "unique_cities_with_null_country = null_country_rows.drop_duplicates(subset='capital')['capital']\n",
    "\n",
    "# Hiển thị tên thành phố của các hàng có giá trị null trong cột \"Country\"\n",
    "if not unique_cities_with_null_country.empty:\n",
    "    print(f\"Các thành phố có giá trị null trong cột 'Country': {', '.join(unique_cities_with_null_country)}\")\n",
    "else:\n",
    "    print(\"Không có thành phố nào có giá trị null trong cột 'Country'.\")"
   ]
  },
  {
   "cell_type": "code",
   "execution_count": 25,
   "id": "4441296c-bb01-451b-bd2d-e8fe34b0ec12",
   "metadata": {},
   "outputs": [
    {
     "name": "stderr",
     "output_type": "stream",
     "text": [
      "C:\\Users\\lth12\\AppData\\Local\\Temp\\ipykernel_10952\\4072131160.py:4: FutureWarning: A value is trying to be set on a copy of a DataFrame or Series through chained assignment using an inplace method.\n",
      "The behavior will change in pandas 3.0. This inplace method will never work because the intermediate object on which we are setting values always behaves as a copy.\n",
      "\n",
      "For example, when doing 'df[col].method(value, inplace=True)', try using 'df.method({col: value}, inplace=True)' or df[col] = df[col].method(value) instead, to perform the operation inplace on the original object.\n",
      "\n",
      "\n",
      "  df['snow_depth'].fillna(0, inplace=True)\n"
     ]
    },
    {
     "name": "stdout",
     "output_type": "stream",
     "text": [
      "File đã được cập nhật và lưu vào 'final_output_with_country_snow.csv'.\n"
     ]
    }
   ],
   "source": [
    "df = pd.read_csv('final_output_with_capital_country.csv')\n",
    "\n",
    "# Thay thế giá trị null trong cột \"snow_depth\" bằng 0\n",
    "df['snow_depth'].fillna(0, inplace=True)\n",
    "\n",
    "# Lưu DataFrame sau khi cập nhật\n",
    "df.to_csv('final_output_update_snow.csv', index=False)\n",
    "\n",
    "print(f\"File đã được cập nhật và lưu vào 'final_output_with_country_snow.csv'.\")\n"
   ]
  },
  {
   "cell_type": "code",
   "execution_count": 33,
   "id": "551fb19b-6422-4dbb-a020-ee954b978168",
   "metadata": {},
   "outputs": [
    {
     "name": "stdout",
     "output_type": "stream",
     "text": [
      "Số lượng dữ liệu thiếu cho mỗi cột:\n",
      "Unnamed: 0                       0\n",
      "date                             0\n",
      "temperature_2m                   0\n",
      "relative_humidity_2m             0\n",
      "dew_point_2m                     0\n",
      "apparent_temperature             0\n",
      "precipitation                    0\n",
      "rain                             0\n",
      "snowfall                         0\n",
      "snow_depth                       0\n",
      "weather_code                     0\n",
      "pressure_msl                     0\n",
      "surface_pressure                 0\n",
      "cloud_cover                      0\n",
      "cloud_cover_low                  0\n",
      "cloud_cover_mid                  0\n",
      "cloud_cover_high                 0\n",
      "et0_fao_evapotranspiration       0\n",
      "vapour_pressure_deficit          0\n",
      "wind_speed_10m                   0\n",
      "wind_speed_100m                  0\n",
      "wind_direction_10m               0\n",
      "wind_direction_100m              0\n",
      "wind_gusts_10m                   0\n",
      "soil_temperature_0_to_7cm        0\n",
      "soil_temperature_7_to_28cm       0\n",
      "soil_temperature_28_to_100cm     0\n",
      "soil_temperature_100_to_255cm    0\n",
      "soil_moisture_0_to_7cm           0\n",
      "soil_moisture_7_to_28cm          0\n",
      "soil_moisture_28_to_100cm        0\n",
      "soil_moisture_100_to_255cm       0\n",
      "capital                          0\n",
      "country                          0\n",
      "dtype: int64\n"
     ]
    }
   ],
   "source": [
    "df = pd.read_csv('final_output_with_country_updated.csv')\n",
    "missing_values = df.isnull().sum()\n",
    "print(\"Số lượng dữ liệu thiếu cho mỗi cột:\")\n",
    "print(missing_values)\n"
   ]
  },
  {
   "cell_type": "code",
   "execution_count": 27,
   "id": "19672540-56c7-42a3-bb3c-12694fcb6db1",
   "metadata": {},
   "outputs": [
    {
     "name": "stdout",
     "output_type": "stream",
     "text": [
      "File đã được cập nhật và lưu vào 'final_output_with_country_updated.csv'.\n"
     ]
    }
   ],
   "source": [
    "\n",
    "conditions = {\n",
    "    'Nuku\\'alofa': 'Tonga',\n",
    "    'Panama_City': 'Panama',\n",
    "    'N’Djamena': 'Chad',\n",
    "    'Saint George’s': 'Grenada',\n",
    "    'Saint John’s': 'Antigua and Barbuda'\n",
    "}\n",
    "\n",
    "# Lặp qua điều kiện và cập nhật cột 'Country' cho các thành phố có giá trị null\n",
    "for city, country in conditions.items():\n",
    "    df.loc[df['capital'] == city, 'country'] = country\n",
    "\n",
    "# Lưu DataFrame sau khi cập nhật\n",
    "df.to_csv('final_output_with_country_updated.csv', index=False)\n",
    "\n",
    "print(f\"File đã được cập nhật và lưu vào 'final_output_with_country_updated.csv'.\")\n"
   ]
  },
  {
   "cell_type": "code",
   "execution_count": 34,
   "id": "1ee4d379-52d5-479c-9648-f6d226c4cc01",
   "metadata": {},
   "outputs": [
    {
     "name": "stdout",
     "output_type": "stream",
     "text": [
      "Tổng số lượng dữ liệu thiếu trong toàn bộ DataFrame: 0\n"
     ]
    }
   ],
   "source": [
    "total_missing = df.isnull().sum().sum()\n",
    "print(\"Tổng số lượng dữ liệu thiếu trong toàn bộ DataFrame:\", total_missing)\n"
   ]
  },
  {
   "cell_type": "code",
   "execution_count": null,
   "id": "2e52e134-ee4a-45e2-8722-6c795cb643e3",
   "metadata": {},
   "outputs": [],
   "source": []
  }
 ],
 "metadata": {
  "kernelspec": {
   "display_name": "Python 3 (ipykernel)",
   "language": "python",
   "name": "python3"
  },
  "language_info": {
   "codemirror_mode": {
    "name": "ipython",
    "version": 3
   },
   "file_extension": ".py",
   "mimetype": "text/x-python",
   "name": "python",
   "nbconvert_exporter": "python",
   "pygments_lexer": "ipython3",
   "version": "3.12.1"
  }
 },
 "nbformat": 4,
 "nbformat_minor": 5
}
